{
 "cells": [
  {
   "cell_type": "markdown",
   "metadata": {},
   "source": [
    "# woerdle-zehla\n",
    "\n",
    "A simple way to assess the effort involved in Post-Editing is to count the number of edits required to transform MT output into a publishable translation and vice versa. woerdle-zehla, which is Swabian for \"word counter\", takes the concept of edit-distance to a document level and creates simple, but intuitive reports for you. Review the results in the GUI directly or save them to disk for subsequent analysis and processing.\n",
    "\n",
    "## How it works\n",
    "1. The tool accepts bilingual __SDLXLIFF__ files and __Across HTML previews__ as inputs and extracts the following information:\n",
    "- Metadata, including:\n",
    "  - source and target language IDs\n",
    "  - name of the client/relation, project name, filename (optional)\n",
    "- String data, including:\n",
    "  - Source strings\n",
    "  - Target strings\n",
    "  - Strings from version history (optional in Across)\n",
    "\n",
    "2. If no previous MT output is available, woerdle-zehla will create a __sample object__ from your source data and send it for translation with an API call. The default path to your API key is ```data/API_key.txt```. Currently, only the DeepL API is supported.\n",
    "3. The MT output is compared against the target translations and each segment is assigned an __edit-distance__ score (aka Levenshtein distance). Individual scores are then combined to calculate a score at the document level ([Post-edit density](https://www.taus.net/events/webinars/68-dqf-spotlight-series-the-power-of-edit-distance-in-quantifying-the-translation-effort)).\n",
    "4. woerdle-zehla offers you three ways for further analysis:\n",
    "* A __histogram view__ with discrete bins for segments within a certain score range. This is perfect to quickly assess the distribution of your scores (e.g. bell-shaped, logarithmic, flat) and its skewness.\n",
    "* __Text output__ for a limited number of segments from the low and high ends of the distribution. This is to give you an idea regarding segments that work well with MT and those that do not.\n",
    "* __JSON exports__ containing metadata, sample segments, aligned translations and scores. Use these files to map scores to project data in your PMIS or to calculate the potential impact of any post-processing steps you wish to introduce to your MT processes.\n",
    "\n",
    "## Requirements\n",
    "If you are using Anaconda as a package manager, no additional libraries are required.\n",
    "\n",
    "## Running the script\n",
    "```\n",
    "python gui.py\n",
    "```\n",
    "This will start the GUI. Check out the settings options to manage additional aspects of the tool.\n",
    "\n",
    "## Running the notebook\n",
    "If you want to run the woerdle-zehla tool on a remote machine, use the accompanying [Jupyter Notebook](woerdle-zehla.ipynb \"Woerdle-zehla Jupyter Notebook\")."
   ]
  },
  {
   "cell_type": "code",
   "execution_count": 103,
   "metadata": {},
   "outputs": [
    {
     "name": "stdout",
     "output_type": "stream",
     "text": [
      "The autoreload extension is already loaded. To reload it, use:\n",
      "  %reload_ext autoreload\n"
     ]
    }
   ],
   "source": [
    "# The following 5 lines are for the creator of this notebook. Please ignore.\n",
    "#%load_ext autoreload\n",
    "#%autoreload 2\n",
    "#import logging\n",
    "#logger = logging.getLogger()\n",
    "#logger.setLevel(logging.INFO)\n",
    "from source.controls import MyControlWidget"
   ]
  },
  {
   "cell_type": "code",
   "execution_count": 104,
   "metadata": {
    "scrolled": false
   },
   "outputs": [
    {
     "data": {
      "application/vnd.jupyter.widget-view+json": {
       "model_id": "c28f146121b7422aaa6a7ca3fa9059bc",
       "version_major": 2,
       "version_minor": 0
      },
      "text/plain": [
       "MyControlWidget(children=(GridspecLayout(children=(GridBox(children=(Text(value='', description='Deliverable',…"
      ]
     },
     "metadata": {},
     "output_type": "display_data"
    },
    {
     "data": {
      "application/vnd.jupyter.widget-view+json": {
       "model_id": "7a010330e02047cf80bc377ca210b8c7",
       "version_major": 2,
       "version_minor": 0
      },
      "text/plain": [
       "Output(layout=Layout(border='2px solid grey', overflow_y='scroll', width='98.5%'))"
      ]
     },
     "metadata": {},
     "output_type": "display_data"
    },
    {
     "name": "stderr",
     "output_type": "stream",
     "text": [
      "H:\\02_working\\05projects\\00lev\\source\\controls.py:204: UserWarning: Boolean Series key will be reindexed to match DataFrame index.\n",
      "  filter_index = self.df.query('stype == \"source\"').duplicated('text')\n"
     ]
    }
   ],
   "source": [
    "w = MyControlWidget()\n",
    "display(w, w.out)"
   ]
  },
  {
   "cell_type": "code",
   "execution_count": 98,
   "metadata": {},
   "outputs": [
    {
     "name": "stderr",
     "output_type": "stream",
     "text": [
      "gui.py:85: UserWarning: Boolean Series key will be reindexed to match DataFrame index.\n",
      "  w.df = w.df[-filter_index]\n"
     ]
    }
   ],
   "source": [
    "# Do not run this cell if your notebook runs on a remote.\n",
    "#!python gui.py"
   ]
  },
  {
   "cell_type": "code",
   "execution_count": null,
   "metadata": {},
   "outputs": [],
   "source": []
  }
 ],
 "metadata": {
  "kernelspec": {
   "display_name": "Python 3",
   "language": "python",
   "name": "python3"
  },
  "language_info": {
   "codemirror_mode": {
    "name": "ipython",
    "version": 3
   },
   "file_extension": ".py",
   "mimetype": "text/x-python",
   "name": "python",
   "nbconvert_exporter": "python",
   "pygments_lexer": "ipython3",
   "version": "3.7.3"
  }
 },
 "nbformat": 4,
 "nbformat_minor": 2
}
